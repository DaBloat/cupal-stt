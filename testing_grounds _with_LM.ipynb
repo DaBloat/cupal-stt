{
 "cells": [
  {
   "cell_type": "code",
   "execution_count": 1,
   "id": "79299fd9",
   "metadata": {},
   "outputs": [],
   "source": [
    "from datasets import Dataset, concatenate_datasets\n",
    "\n",
    "data1 = Dataset.from_json('data-open-voice/annotations/dataset1.json')\n",
    "data2 = Dataset.from_json('data-open-voice/annotations/dataset2.json')\n",
    "data3 = Dataset.from_json('data-open-voice/annotations/dataset3.json')\n",
    "data4 = Dataset.from_json('data-open-voice/annotations/dataset4.json')\n",
    "data5 = Dataset.from_json('data-open-voice/annotations/dataset5.json')\n",
    "data6 = Dataset.from_json('data-open-voice/annotations/dataset6.json')\n",
    "data7 = Dataset.from_json('data-open-voice/annotations/dataset7.json')\n",
    "data8 = Dataset.from_json('data-open-voice/annotations/dataset8.json')\n",
    "data9 = Dataset.from_json('data-open-voice/annotations/dataset9.json')\n",
    "data10 = Dataset.from_json('data-open-voice/annotations/dataset10.json')\n",
    "data11 = Dataset.from_json('data-open-voice/annotations/dataset11.json')\n",
    "data12 = Dataset.from_json('data-open-voice/annotations/dataset12.json')\n",
    "data13 = Dataset.from_json('data-open-voice/annotations/dataset13.json')\n",
    "data14 = Dataset.from_json('data-open-voice/annotations/dataset14.json')\n",
    "data15 = Dataset.from_json('data-open-voice/annotations/dataset15.json')\n",
    "data = concatenate_datasets([data1, data2, data3, data4, data5, data6, data7, data8, data9, data10, data11, data12, data13, data14, data15])"
   ]
  },
  {
   "cell_type": "code",
   "execution_count": 2,
   "id": "42685de9",
   "metadata": {},
   "outputs": [
    {
     "data": {
      "text/plain": [
       "(17871, 4)"
      ]
     },
     "execution_count": 2,
     "metadata": {},
     "output_type": "execute_result"
    }
   ],
   "source": [
    "data.shape"
   ]
  },
  {
   "cell_type": "code",
   "execution_count": 3,
   "id": "5eda629d",
   "metadata": {},
   "outputs": [
    {
     "name": "stdout",
     "output_type": "stream",
     "text": [
      "{'path': Value(dtype='string', id=None), 'text': Value(dtype='string', id=None), 'array': Sequence(feature=Value(dtype='float64', id=None), length=-1, id=None), 'sampling_rate': Value(dtype='int64', id=None)}\n"
     ]
    }
   ],
   "source": [
    "print(data.features)"
   ]
  },
  {
   "cell_type": "code",
   "execution_count": 4,
   "id": "2cffe2e3",
   "metadata": {},
   "outputs": [
    {
     "name": "stdout",
     "output_type": "stream",
     "text": [
      "Max length: 50\n",
      "Mean length: 17.532538749930055\n",
      "95th percentile: 27.0\n"
     ]
    }
   ],
   "source": [
    "from transformers import Speech2TextProcessor\n",
    "import numpy as np\n",
    "\n",
    "# Load processor and dataset\n",
    "processor = Speech2TextProcessor.from_pretrained(\"facebook/s2t-small-librispeech-asr\")\n",
    "\n",
    "# Function to compute length of tokenized text\n",
    "def get_token_lengths(example):\n",
    "    with processor.as_target_processor():\n",
    "        tokens = processor(example[\"text\"], return_tensors=None)\n",
    "        example[\"token_length\"] = len(tokens[\"input_ids\"])\n",
    "    return example\n",
    "\n",
    "# Map over dataset\n",
    "token_lens = data.map(get_token_lengths, remove_columns=data.column_names)\n",
    "\n",
    "# Extract and analyze\n",
    "lengths = token_lens[\"token_length\"]\n",
    "print(\"Max length:\", max(lengths))\n",
    "print(\"Mean length:\", np.mean(lengths))\n",
    "print(\"95th percentile:\", np.percentile(lengths, 95))"
   ]
  },
  {
   "cell_type": "code",
   "execution_count": 5,
   "id": "998b596b",
   "metadata": {},
   "outputs": [],
   "source": [
    "from transformers import Speech2TextProcessor\n",
    "\n",
    "processor = Speech2TextProcessor.from_pretrained(\"facebook/s2t-small-librispeech-asr\")\n",
    "\n",
    "def preprocess_batch(batch):\n",
    "    # Extract arrays and sample rates\n",
    "    audio_arrays = batch[\"array\"]\n",
    "    sampling_rates = batch[\"sampling_rate\"]\n",
    "\n",
    "    # Process audio features\n",
    "    audio_inputs = processor(\n",
    "        audio_arrays,\n",
    "        sampling_rate=sampling_rates[0],\n",
    "        return_tensors=\"pt\",\n",
    "        padding=True\n",
    "    )\n",
    "\n",
    "    # Process text labels\n",
    "    with processor.as_target_processor():\n",
    "        labels = processor(\n",
    "            batch[\"text\"],\n",
    "            return_tensors=\"pt\",\n",
    "            padding=True,\n",
    "            truncation=True,\n",
    "            max_length=32\n",
    "        )\n",
    "\n",
    "    # Replace pad tokens with -100 for loss masking\n",
    "    labels[\"input_ids\"][labels[\"input_ids\"] == processor.tokenizer.pad_token_id] = -100\n",
    "\n",
    "    return {\n",
    "        \"input_features\": audio_inputs[\"input_features\"],\n",
    "        \"labels\": labels[\"input_ids\"]\n",
    "    }\n"
   ]
  },
  {
   "cell_type": "code",
   "execution_count": 6,
   "id": "79fa80da",
   "metadata": {},
   "outputs": [
    {
     "data": {
      "application/vnd.jupyter.widget-view+json": {
       "model_id": "3208b0780b59482a8ec7cf22124cc852",
       "version_major": 2,
       "version_minor": 0
      },
      "text/plain": [
       "Map:   0%|          | 0/17871 [00:00<?, ? examples/s]"
      ]
     },
     "metadata": {},
     "output_type": "display_data"
    },
    {
     "name": "stderr",
     "output_type": "stream",
     "text": [
      "2025-05-01 23:13:08.574580: E external/local_xla/xla/stream_executor/cuda/cuda_fft.cc:467] Unable to register cuFFT factory: Attempting to register factory for plugin cuFFT when one has already been registered\n",
      "WARNING: All log messages before absl::InitializeLog() is called are written to STDERR\n",
      "E0000 00:00:1746112388.645589  305702 cuda_dnn.cc:8579] Unable to register cuDNN factory: Attempting to register factory for plugin cuDNN when one has already been registered\n",
      "E0000 00:00:1746112388.665930  305702 cuda_blas.cc:1407] Unable to register cuBLAS factory: Attempting to register factory for plugin cuBLAS when one has already been registered\n",
      "W0000 00:00:1746112388.850508  305702 computation_placer.cc:177] computation placer already registered. Please check linkage and avoid linking the same target more than once.\n",
      "W0000 00:00:1746112388.850530  305702 computation_placer.cc:177] computation placer already registered. Please check linkage and avoid linking the same target more than once.\n",
      "W0000 00:00:1746112388.850531  305702 computation_placer.cc:177] computation placer already registered. Please check linkage and avoid linking the same target more than once.\n",
      "W0000 00:00:1746112388.850533  305702 computation_placer.cc:177] computation placer already registered. Please check linkage and avoid linking the same target more than once.\n",
      "2025-05-01 23:13:08.869931: I tensorflow/core/platform/cpu_feature_guard.cc:210] This TensorFlow binary is optimized to use available CPU instructions in performance-critical operations.\n",
      "To enable the following instructions: AVX2 FMA, in other operations, rebuild TensorFlow with the appropriate compiler flags.\n",
      "/home/kurty/Project/lib/python3.12/site-packages/transformers/models/speech_to_text/processing_speech_to_text.py:108: UserWarning: `as_target_processor` is deprecated and will be removed in v5 of Transformers. You can process your labels by using the argument `text` of the regular `__call__` method (either in the same call as your audio inputs, or in a separate call.\n",
      "  warnings.warn(\n"
     ]
    }
   ],
   "source": [
    "dataset = data.map(preprocess_batch, batched=True)"
   ]
  },
  {
   "cell_type": "code",
   "execution_count": 7,
   "id": "a8ad96ba",
   "metadata": {},
   "outputs": [
    {
     "data": {
      "text/plain": [
       "DatasetDict({\n",
       "    train: Dataset({\n",
       "        features: ['path', 'text', 'array', 'sampling_rate', 'input_features', 'labels'],\n",
       "        num_rows: 12509\n",
       "    })\n",
       "    test: Dataset({\n",
       "        features: ['path', 'text', 'array', 'sampling_rate', 'input_features', 'labels'],\n",
       "        num_rows: 5362\n",
       "    })\n",
       "})"
      ]
     },
     "execution_count": 7,
     "metadata": {},
     "output_type": "execute_result"
    }
   ],
   "source": [
    "dataset = dataset.train_test_split(test_size=0.3)\n",
    "dataset"
   ]
  },
  {
   "cell_type": "code",
   "execution_count": 8,
   "id": "396ffb21",
   "metadata": {},
   "outputs": [],
   "source": [
    "train_dataset = dataset[\"train\"]\n",
    "eval_dataset = dataset[\"test\"]"
   ]
  },
  {
   "cell_type": "code",
   "execution_count": 9,
   "id": "999d935b",
   "metadata": {},
   "outputs": [
    {
     "name": "stderr",
     "output_type": "stream",
     "text": [
      "Some weights of Speech2TextForConditionalGeneration were not initialized from the model checkpoint at facebook/s2t-small-librispeech-asr and are newly initialized: ['model.decoder.embed_positions.weights', 'model.encoder.embed_positions.weights']\n",
      "You should probably TRAIN this model on a down-stream task to be able to use it for predictions and inference.\n"
     ]
    }
   ],
   "source": [
    "from transformers import Speech2TextForConditionalGeneration, Speech2TextProcessor\n",
    "\n",
    "model = Speech2TextForConditionalGeneration.from_pretrained(\"facebook/s2t-small-librispeech-asr\")\n",
    "processor = Speech2TextProcessor.from_pretrained(\"facebook/s2t-small-librispeech-asr\")\n"
   ]
  },
  {
   "cell_type": "code",
   "execution_count": 10,
   "id": "9c6a4f32",
   "metadata": {},
   "outputs": [],
   "source": [
    "from transformers import Seq2SeqTrainingArguments\n",
    "\n",
    "training_args = Seq2SeqTrainingArguments(\n",
    "    output_dir=\"./s2t_finetuned\",\n",
    "    per_device_train_batch_size=4,\n",
    "    per_device_eval_batch_size=4,\n",
    "    predict_with_generate=True,\n",
    "    learning_rate=3e-5,\n",
    "    eval_strategy=\"epoch\",\n",
    "    logging_strategy=\"steps\",\n",
    "    logging_steps=50,\n",
    "    save_strategy=\"epoch\",\n",
    "    num_train_epochs=10,\n",
    "    generation_max_length=128,\n",
    "    fp16=True,  # If using a GPU that supports it\n",
    "    save_total_limit=2,\n",
    "    load_best_model_at_end=True,                # ✅ Required for early stopping\n",
    "    metric_for_best_model=\"eval_Word Error Rate\",                # ✅ Choose your metric\n",
    "    greater_is_better=False,\n",
    ")\n"
   ]
  },
  {
   "cell_type": "code",
   "execution_count": 11,
   "id": "b8d82102",
   "metadata": {},
   "outputs": [],
   "source": [
    "from dataclasses import dataclass\n",
    "from typing import Any, Dict, List, Union\n",
    "import torch\n",
    "\n",
    "@dataclass\n",
    "class DataCollatorSpeechSeq2SeqWithPadding:\n",
    "    processor: Any\n",
    "    model: Any\n",
    "\n",
    "    def __call__(self, features: List[Dict[str, Union[List[int], torch.Tensor]]]) -> Dict[str, torch.Tensor]:\n",
    "        input_features = [f[\"input_features\"] for f in features]\n",
    "        label_features = [f[\"labels\"] for f in features]\n",
    "\n",
    "        batch = self.processor.feature_extractor.pad(\n",
    "            {\"input_features\": input_features},\n",
    "            return_tensors=\"pt\"\n",
    "        )\n",
    "\n",
    "        # Pad labels manually\n",
    "        max_length = max(len(l) for l in label_features)\n",
    "        labels_batch = torch.full((len(label_features), max_length), self.model.config.pad_token_id)\n",
    "        for i, labels in enumerate(label_features):\n",
    "            labels_batch[i, :len(labels)] = torch.tensor(labels)\n",
    "\n",
    "        batch[\"labels\"] = labels_batch\n",
    "        return batch\n"
   ]
  },
  {
   "cell_type": "code",
   "execution_count": 12,
   "id": "f0b90852",
   "metadata": {},
   "outputs": [],
   "source": [
    "data_collator = DataCollatorSpeechSeq2SeqWithPadding(processor=processor, model=model)\n"
   ]
  },
  {
   "cell_type": "code",
   "execution_count": 13,
   "id": "04124420",
   "metadata": {},
   "outputs": [],
   "source": [
    "import evaluate\n",
    "import numpy as np\n",
    "import torch\n",
    "\n",
    "wer_metric = evaluate.load(\"wer\")\n",
    "\n",
    "def compute_metrics(pred):\n",
    "    pred_ids = pred.predictions\n",
    "    label_ids = pred.label_ids\n",
    "\n",
    "    # Replace -100 in labels as padding token\n",
    "    label_ids[label_ids == -100] = processor.tokenizer.pad_token_id\n",
    "\n",
    "    pred_str = processor.batch_decode(pred_ids, skip_special_tokens=True)\n",
    "    label_str = processor.batch_decode(label_ids, skip_special_tokens=True)\n",
    "\n",
    "    wer = wer_metric.compute(predictions=pred_str, references=label_str)\n",
    "    return {\"Word Error Rate\": wer}"
   ]
  },
  {
   "cell_type": "code",
   "execution_count": 14,
   "id": "38c47c8c",
   "metadata": {},
   "outputs": [
    {
     "name": "stderr",
     "output_type": "stream",
     "text": [
      "/tmp/ipykernel_305702/169519356.py:3: FutureWarning: `tokenizer` is deprecated and will be removed in version 5.0.0 for `Seq2SeqTrainer.__init__`. Use `processing_class` instead.\n",
      "  trainer = Seq2SeqTrainer(\n"
     ]
    }
   ],
   "source": [
    "from transformers import Seq2SeqTrainer, EarlyStoppingCallback\n",
    "\n",
    "trainer = Seq2SeqTrainer(\n",
    "    model=model,\n",
    "    args=training_args,\n",
    "    train_dataset=train_dataset,\n",
    "    eval_dataset=eval_dataset,\n",
    "    tokenizer=processor.feature_extractor,\n",
    "    data_collator=data_collator,\n",
    "    callbacks=[EarlyStoppingCallback(early_stopping_patience=2)],\n",
    "    compute_metrics=compute_metrics\n",
    ")\n"
   ]
  },
  {
   "cell_type": "code",
   "execution_count": 15,
   "id": "182c0fd6",
   "metadata": {},
   "outputs": [
    {
     "data": {
      "text/html": [
       "\n",
       "    <div>\n",
       "      \n",
       "      <progress value='31280' max='31280' style='width:300px; height:20px; vertical-align: middle;'></progress>\n",
       "      [31280/31280 4:08:42, Epoch 10/10]\n",
       "    </div>\n",
       "    <table border=\"1\" class=\"dataframe\">\n",
       "  <thead>\n",
       " <tr style=\"text-align: left;\">\n",
       "      <th>Epoch</th>\n",
       "      <th>Training Loss</th>\n",
       "      <th>Validation Loss</th>\n",
       "      <th>Word error rate</th>\n",
       "    </tr>\n",
       "  </thead>\n",
       "  <tbody>\n",
       "    <tr>\n",
       "      <td>1</td>\n",
       "      <td>1.794900</td>\n",
       "      <td>1.206870</td>\n",
       "      <td>0.314554</td>\n",
       "    </tr>\n",
       "    <tr>\n",
       "      <td>2</td>\n",
       "      <td>1.323700</td>\n",
       "      <td>0.966823</td>\n",
       "      <td>0.265956</td>\n",
       "    </tr>\n",
       "    <tr>\n",
       "      <td>3</td>\n",
       "      <td>1.118100</td>\n",
       "      <td>0.895766</td>\n",
       "      <td>0.248469</td>\n",
       "    </tr>\n",
       "    <tr>\n",
       "      <td>4</td>\n",
       "      <td>0.899300</td>\n",
       "      <td>0.861204</td>\n",
       "      <td>0.238577</td>\n",
       "    </tr>\n",
       "    <tr>\n",
       "      <td>5</td>\n",
       "      <td>0.992000</td>\n",
       "      <td>0.838219</td>\n",
       "      <td>0.232803</td>\n",
       "    </tr>\n",
       "    <tr>\n",
       "      <td>6</td>\n",
       "      <td>0.810900</td>\n",
       "      <td>0.823213</td>\n",
       "      <td>0.228059</td>\n",
       "    </tr>\n",
       "    <tr>\n",
       "      <td>7</td>\n",
       "      <td>0.821200</td>\n",
       "      <td>0.815503</td>\n",
       "      <td>0.225889</td>\n",
       "    </tr>\n",
       "    <tr>\n",
       "      <td>8</td>\n",
       "      <td>0.694700</td>\n",
       "      <td>0.809167</td>\n",
       "      <td>0.222819</td>\n",
       "    </tr>\n",
       "    <tr>\n",
       "      <td>9</td>\n",
       "      <td>0.733000</td>\n",
       "      <td>0.804756</td>\n",
       "      <td>0.222102</td>\n",
       "    </tr>\n",
       "    <tr>\n",
       "      <td>10</td>\n",
       "      <td>0.734500</td>\n",
       "      <td>0.803357</td>\n",
       "      <td>0.221771</td>\n",
       "    </tr>\n",
       "  </tbody>\n",
       "</table><p>"
      ],
      "text/plain": [
       "<IPython.core.display.HTML object>"
      ]
     },
     "metadata": {},
     "output_type": "display_data"
    },
    {
     "name": "stderr",
     "output_type": "stream",
     "text": [
      "/home/kurty/Project/lib/python3.12/site-packages/transformers/modeling_utils.py:3339: UserWarning: Moving the following attributes in the config to the generation config: {'max_length': 200, 'early_stopping': True, 'num_beams': 5}. You are seeing this warning because you've set generation parameters in the model config, as opposed to in the generation config.\n",
      "  warnings.warn(\n",
      "There were missing keys in the checkpoint model loaded: ['lm_head.weight'].\n"
     ]
    },
    {
     "data": {
      "text/plain": [
       "TrainOutput(global_step=31280, training_loss=1.1801874401014478, metrics={'train_runtime': 14923.883, 'train_samples_per_second': 8.382, 'train_steps_per_second': 2.096, 'total_flos': 1.832735332009083e+18, 'train_loss': 1.1801874401014478, 'epoch': 10.0})"
      ]
     },
     "execution_count": 15,
     "metadata": {},
     "output_type": "execute_result"
    }
   ],
   "source": [
    "trainer.train()\n"
   ]
  },
  {
   "cell_type": "code",
   "execution_count": 16,
   "id": "424735c8",
   "metadata": {},
   "outputs": [
    {
     "data": {
      "text/html": [],
      "text/plain": [
       "<IPython.core.display.HTML object>"
      ]
     },
     "metadata": {},
     "output_type": "display_data"
    },
    {
     "name": "stdout",
     "output_type": "stream",
     "text": [
      "{'eval_loss': 0.8033570051193237, 'eval_Word Error Rate': 0.22177070883515676, 'eval_runtime': 555.7157, 'eval_samples_per_second': 9.649, 'eval_steps_per_second': 2.413, 'epoch': 10.0}\n"
     ]
    }
   ],
   "source": [
    "results = trainer.evaluate()\n",
    "print(results)"
   ]
  },
  {
   "cell_type": "code",
   "execution_count": 17,
   "id": "c73d9cd5",
   "metadata": {},
   "outputs": [
    {
     "name": "stdout",
     "output_type": "stream",
     "text": [
      "\n",
      " * Reference: a limited release of the record featured clear blue vinyl\n",
      " * Prediction: limited release of the record featured clear blue final \n",
      " * WER: 0.200\n",
      "\n",
      " * Reference: the plane crashed near ayelet hashahar\n",
      " * Prediction: the blame crashed near alet hashhahar \n",
      " * WER: 0.500\n",
      "\n",
      " * Reference: di bona met his first wife gina with whom he has a daughter cara\n",
      " * Prediction: the owner met his first wife genoa with whom he has the daughter cara \n",
      " * WER: 0.286\n",
      "\n",
      " * Reference: the subsequent habsburg emperors concentrated on their territories mainly in austria bohemia and hungary\n",
      " * Prediction: his subsequent airspring emperors concentrated on their territory namely in austria bohemia and hungary \n",
      " * WER: 0.286\n",
      "\n",
      " * Reference: the pair returned and king edward quickly reinstated despenser as royal favourite\n",
      " * Prediction: the pair returned and king edward quickly reinstated to spencer his royal favorite \n",
      " * WER: 0.333\n",
      "\n",
      " * Reference: progress on the saturn design seemed to go smoothly\n",
      " * Prediction: progress on the sand designs seem to go smoothly \n",
      " * WER: 0.333\n",
      "\n",
      " * Reference: note that the relative scale of the scattering lengths is the same\n",
      " * Prediction: no doubt the relative scale of the scattering lens is the same \n",
      " * WER: 0.250\n",
      "\n",
      " * Reference: one thing at last i set myself to do\n",
      " * Prediction: one thing at last i set myself to do \n",
      " * WER: 0.000\n",
      "\n",
      " * Reference: it is probable that they also acted as public rainmakers\n",
      " * Prediction: it is probable and still slighter as public rainmakers \n",
      " * WER: 0.400\n",
      "\n",
      " * Reference: his father was the theatrical producer arthur cantor\n",
      " * Prediction: his father was the theatrical producer arthur canter \n",
      " * WER: 0.125\n"
     ]
    }
   ],
   "source": [
    "sample = eval_dataset.select(range(10))\n",
    "output = trainer.predict(sample)\n",
    "\n",
    "wer_metric = evaluate.load(\"wer\")\n",
    "pred_str = processor.batch_decode(output.predictions, skip_special_tokens=True)\n",
    "label_str = processor.batch_decode(output.label_ids, skip_special_tokens=True)\n",
    "\n",
    "for ref, pred in zip(label_str, pred_str):\n",
    "    wer = wer_metric.compute(predictions=[pred], references=[ref])\n",
    "    print(f\"\\n * Reference: {ref}\\n * Prediction: {pred} \\n * WER: {wer:.3f}\")"
   ]
  },
  {
   "cell_type": "code",
   "execution_count": 24,
   "id": "8557fbb7",
   "metadata": {},
   "outputs": [],
   "source": [
    "from transformers import Seq2SeqTrainer\n",
    "from kenlm import Model\n",
    "import torch\n",
    "\n",
    "# Load WER metric and KenLM ARPA model\n",
    "wer_metric = evaluate.load(\"wer\")\n",
    "lm = Model(\"lib4gram.binary\")\n",
    "\n",
    "# Helper function to score sentences with KenLM\n",
    "def score_sentence(sentence):\n",
    "    return lm.score(sentence.strip(), bos=True, eos=True)\n",
    "\n",
    "# Rescore beam outputs\n",
    "def rescore_beam_list(beam_outputs):\n",
    "    best_hypotheses = []\n",
    "    for beams in beam_outputs:\n",
    "        if not beams:\n",
    "            best_hypotheses.append(\"\")\n",
    "            continue\n",
    "        scores = [(hyp, score_sentence(hyp)) for hyp in beams]\n",
    "        best = max(scores, key=lambda x: x[1])\n",
    "        best_hypotheses.append(best[0])\n",
    "    return best_hypotheses\n",
    "\n",
    "# Beam search decoding\n",
    "def generate_beam_outputs(model, processor, dataset, num_beams=5):\n",
    "    model.eval()\n",
    "    beam_outputs = []\n",
    "    \n",
    "    for batch in dataset:\n",
    "        inputs = processor(batch[\"array\"], sampling_rate=batch[\"sampling_rate\"], return_tensors=\"pt\", padding=True)\n",
    "        input_values = inputs.input_values.to(model.device)\n",
    "\n",
    "        with torch.no_grad():\n",
    "            gen_output = model.generate(\n",
    "                input_values,\n",
    "                num_beams=num_beams,\n",
    "                num_return_sequences=num_beams,\n",
    "                return_dict_in_generate=True,\n",
    "                output_scores=True,\n",
    "                early_stopping=True,\n",
    "            ).sequences\n",
    "\n",
    "        decoded = processor.batch_decode(gen_output, skip_special_tokens=True)\n",
    "        beam_outputs.append(decoded)\n",
    "\n",
    "    return beam_outputs\n",
    "\n",
    "# Evaluate rescored outputs\n",
    "def evaluate_with_lm(model, processor, eval_dataset, num_beams=5):\n",
    "    # Get references\n",
    "    references = [sample[\"text\"].lower().strip() for sample in eval_dataset]\n",
    "\n",
    "    # Generate hypotheses and rescore\n",
    "    beam_outputs = generate_beam_outputs(model, processor, eval_dataset, num_beams)\n",
    "    rescored_preds = rescore_beam_list(beam_outputs)\n",
    "\n",
    "    # Compute WER\n",
    "    wer_score = wer_metric.compute(predictions=rescored_preds, references=references)\n",
    "    print(f\"WER after LM rescoring: {wer_score:.4f}\")\n",
    "    return wer_score\n"
   ]
  },
  {
   "cell_type": "code",
   "execution_count": 25,
   "id": "5a1f2af0",
   "metadata": {},
   "outputs": [
    {
     "ename": "KeyboardInterrupt",
     "evalue": "",
     "output_type": "error",
     "traceback": [
      "\u001b[31m---------------------------------------------------------------------------\u001b[39m",
      "\u001b[31mKeyboardInterrupt\u001b[39m                         Traceback (most recent call last)",
      "\u001b[36mCell\u001b[39m\u001b[36m \u001b[39m\u001b[32mIn[25]\u001b[39m\u001b[32m, line 1\u001b[39m\n\u001b[32m----> \u001b[39m\u001b[32m1\u001b[39m \u001b[43mevaluate_with_lm\u001b[49m\u001b[43m(\u001b[49m\u001b[43mmodel\u001b[49m\u001b[43m,\u001b[49m\u001b[43m \u001b[49m\u001b[43mprocessor\u001b[49m\u001b[43m,\u001b[49m\u001b[43m \u001b[49m\u001b[43meval_dataset\u001b[49m\u001b[43m)\u001b[49m\n",
      "\u001b[36mCell\u001b[39m\u001b[36m \u001b[39m\u001b[32mIn[24]\u001b[39m\u001b[32m, line 52\u001b[39m, in \u001b[36mevaluate_with_lm\u001b[39m\u001b[34m(model, processor, eval_dataset, num_beams)\u001b[39m\n\u001b[32m     50\u001b[39m \u001b[38;5;28;01mdef\u001b[39;00m\u001b[38;5;250m \u001b[39m\u001b[34mevaluate_with_lm\u001b[39m(model, processor, eval_dataset, num_beams=\u001b[32m5\u001b[39m):\n\u001b[32m     51\u001b[39m     \u001b[38;5;66;03m# Get references\u001b[39;00m\n\u001b[32m---> \u001b[39m\u001b[32m52\u001b[39m     references = \u001b[43m[\u001b[49m\u001b[43msample\u001b[49m\u001b[43m[\u001b[49m\u001b[33;43m\"\u001b[39;49m\u001b[33;43mtext\u001b[39;49m\u001b[33;43m\"\u001b[39;49m\u001b[43m]\u001b[49m\u001b[43m.\u001b[49m\u001b[43mlower\u001b[49m\u001b[43m(\u001b[49m\u001b[43m)\u001b[49m\u001b[43m.\u001b[49m\u001b[43mstrip\u001b[49m\u001b[43m(\u001b[49m\u001b[43m)\u001b[49m\u001b[43m \u001b[49m\u001b[38;5;28;43;01mfor\u001b[39;49;00m\u001b[43m \u001b[49m\u001b[43msample\u001b[49m\u001b[43m \u001b[49m\u001b[38;5;129;43;01min\u001b[39;49;00m\u001b[43m \u001b[49m\u001b[43meval_dataset\u001b[49m\u001b[43m]\u001b[49m\n\u001b[32m     54\u001b[39m     \u001b[38;5;66;03m# Generate hypotheses and rescore\u001b[39;00m\n\u001b[32m     55\u001b[39m     beam_outputs = generate_beam_outputs(model, processor, eval_dataset, num_beams)\n",
      "\u001b[36mFile \u001b[39m\u001b[32m~/Project/lib/python3.12/site-packages/datasets/arrow_dataset.py:2397\u001b[39m, in \u001b[36mDataset.__iter__\u001b[39m\u001b[34m(self)\u001b[39m\n\u001b[32m   2395\u001b[39m \u001b[38;5;28;01melse\u001b[39;00m:\n\u001b[32m   2396\u001b[39m     \u001b[38;5;28;01mfor\u001b[39;00m i \u001b[38;5;129;01min\u001b[39;00m \u001b[38;5;28mrange\u001b[39m(\u001b[38;5;28mself\u001b[39m.num_rows):\n\u001b[32m-> \u001b[39m\u001b[32m2397\u001b[39m         \u001b[38;5;28;01myield\u001b[39;00m \u001b[38;5;28;43mself\u001b[39;49m\u001b[43m.\u001b[49m\u001b[43m_getitem\u001b[49m\u001b[43m(\u001b[49m\n\u001b[32m   2398\u001b[39m \u001b[43m            \u001b[49m\u001b[43mi\u001b[49m\u001b[43m,\u001b[49m\n\u001b[32m   2399\u001b[39m \u001b[43m        \u001b[49m\u001b[43m)\u001b[49m\n",
      "\u001b[36mFile \u001b[39m\u001b[32m~/Project/lib/python3.12/site-packages/datasets/arrow_dataset.py:2762\u001b[39m, in \u001b[36mDataset._getitem\u001b[39m\u001b[34m(self, key, **kwargs)\u001b[39m\n\u001b[32m   2760\u001b[39m formatter = get_formatter(format_type, features=\u001b[38;5;28mself\u001b[39m._info.features, **format_kwargs)\n\u001b[32m   2761\u001b[39m pa_subtable = query_table(\u001b[38;5;28mself\u001b[39m._data, key, indices=\u001b[38;5;28mself\u001b[39m._indices)\n\u001b[32m-> \u001b[39m\u001b[32m2762\u001b[39m formatted_output = \u001b[43mformat_table\u001b[49m\u001b[43m(\u001b[49m\n\u001b[32m   2763\u001b[39m \u001b[43m    \u001b[49m\u001b[43mpa_subtable\u001b[49m\u001b[43m,\u001b[49m\u001b[43m \u001b[49m\u001b[43mkey\u001b[49m\u001b[43m,\u001b[49m\u001b[43m \u001b[49m\u001b[43mformatter\u001b[49m\u001b[43m=\u001b[49m\u001b[43mformatter\u001b[49m\u001b[43m,\u001b[49m\u001b[43m \u001b[49m\u001b[43mformat_columns\u001b[49m\u001b[43m=\u001b[49m\u001b[43mformat_columns\u001b[49m\u001b[43m,\u001b[49m\u001b[43m \u001b[49m\u001b[43moutput_all_columns\u001b[49m\u001b[43m=\u001b[49m\u001b[43moutput_all_columns\u001b[49m\n\u001b[32m   2764\u001b[39m \u001b[43m\u001b[49m\u001b[43m)\u001b[49m\n\u001b[32m   2765\u001b[39m \u001b[38;5;28;01mreturn\u001b[39;00m formatted_output\n",
      "\u001b[36mFile \u001b[39m\u001b[32m~/Project/lib/python3.12/site-packages/datasets/formatting/formatting.py:666\u001b[39m, in \u001b[36mformat_table\u001b[39m\u001b[34m(table, key, formatter, format_columns, output_all_columns)\u001b[39m\n\u001b[32m    664\u001b[39m \u001b[38;5;28;01melse\u001b[39;00m:\n\u001b[32m    665\u001b[39m     pa_table_to_format = pa_table.drop(col \u001b[38;5;28;01mfor\u001b[39;00m col \u001b[38;5;129;01min\u001b[39;00m pa_table.column_names \u001b[38;5;28;01mif\u001b[39;00m col \u001b[38;5;129;01mnot\u001b[39;00m \u001b[38;5;129;01min\u001b[39;00m format_columns)\n\u001b[32m--> \u001b[39m\u001b[32m666\u001b[39m     formatted_output = \u001b[43mformatter\u001b[49m\u001b[43m(\u001b[49m\u001b[43mpa_table_to_format\u001b[49m\u001b[43m,\u001b[49m\u001b[43m \u001b[49m\u001b[43mquery_type\u001b[49m\u001b[43m=\u001b[49m\u001b[43mquery_type\u001b[49m\u001b[43m)\u001b[49m\n\u001b[32m    667\u001b[39m     \u001b[38;5;28;01mif\u001b[39;00m output_all_columns:\n\u001b[32m    668\u001b[39m         \u001b[38;5;28;01mif\u001b[39;00m \u001b[38;5;28misinstance\u001b[39m(formatted_output, MutableMapping):\n",
      "\u001b[36mFile \u001b[39m\u001b[32m~/Project/lib/python3.12/site-packages/datasets/formatting/formatting.py:411\u001b[39m, in \u001b[36mFormatter.__call__\u001b[39m\u001b[34m(self, pa_table, query_type)\u001b[39m\n\u001b[32m    409\u001b[39m \u001b[38;5;28;01mdef\u001b[39;00m\u001b[38;5;250m \u001b[39m\u001b[34m__call__\u001b[39m(\u001b[38;5;28mself\u001b[39m, pa_table: pa.Table, query_type: \u001b[38;5;28mstr\u001b[39m) -> Union[RowFormat, ColumnFormat, BatchFormat]:\n\u001b[32m    410\u001b[39m     \u001b[38;5;28;01mif\u001b[39;00m query_type == \u001b[33m\"\u001b[39m\u001b[33mrow\u001b[39m\u001b[33m\"\u001b[39m:\n\u001b[32m--> \u001b[39m\u001b[32m411\u001b[39m         \u001b[38;5;28;01mreturn\u001b[39;00m \u001b[38;5;28;43mself\u001b[39;49m\u001b[43m.\u001b[49m\u001b[43mformat_row\u001b[49m\u001b[43m(\u001b[49m\u001b[43mpa_table\u001b[49m\u001b[43m)\u001b[49m\n\u001b[32m    412\u001b[39m     \u001b[38;5;28;01melif\u001b[39;00m query_type == \u001b[33m\"\u001b[39m\u001b[33mcolumn\u001b[39m\u001b[33m\"\u001b[39m:\n\u001b[32m    413\u001b[39m         \u001b[38;5;28;01mreturn\u001b[39;00m \u001b[38;5;28mself\u001b[39m.format_column(pa_table)\n",
      "\u001b[36mFile \u001b[39m\u001b[32m~/Project/lib/python3.12/site-packages/datasets/formatting/formatting.py:459\u001b[39m, in \u001b[36mPythonFormatter.format_row\u001b[39m\u001b[34m(self, pa_table)\u001b[39m\n\u001b[32m    457\u001b[39m \u001b[38;5;28;01mif\u001b[39;00m \u001b[38;5;28mself\u001b[39m.lazy:\n\u001b[32m    458\u001b[39m     \u001b[38;5;28;01mreturn\u001b[39;00m LazyRow(pa_table, \u001b[38;5;28mself\u001b[39m)\n\u001b[32m--> \u001b[39m\u001b[32m459\u001b[39m row = \u001b[38;5;28;43mself\u001b[39;49m\u001b[43m.\u001b[49m\u001b[43mpython_arrow_extractor\u001b[49m\u001b[43m(\u001b[49m\u001b[43m)\u001b[49m\u001b[43m.\u001b[49m\u001b[43mextract_row\u001b[49m\u001b[43m(\u001b[49m\u001b[43mpa_table\u001b[49m\u001b[43m)\u001b[49m\n\u001b[32m    460\u001b[39m row = \u001b[38;5;28mself\u001b[39m.python_features_decoder.decode_row(row)\n\u001b[32m    461\u001b[39m \u001b[38;5;28;01mreturn\u001b[39;00m row\n",
      "\u001b[36mFile \u001b[39m\u001b[32m~/Project/lib/python3.12/site-packages/datasets/formatting/formatting.py:145\u001b[39m, in \u001b[36mPythonArrowExtractor.extract_row\u001b[39m\u001b[34m(self, pa_table)\u001b[39m\n\u001b[32m    144\u001b[39m \u001b[38;5;28;01mdef\u001b[39;00m\u001b[38;5;250m \u001b[39m\u001b[34mextract_row\u001b[39m(\u001b[38;5;28mself\u001b[39m, pa_table: pa.Table) -> \u001b[38;5;28mdict\u001b[39m:\n\u001b[32m--> \u001b[39m\u001b[32m145\u001b[39m     \u001b[38;5;28;01mreturn\u001b[39;00m _unnest(\u001b[43mpa_table\u001b[49m\u001b[43m.\u001b[49m\u001b[43mto_pydict\u001b[49m\u001b[43m(\u001b[49m\u001b[43m)\u001b[49m)\n",
      "\u001b[31mKeyboardInterrupt\u001b[39m: "
     ]
    }
   ],
   "source": [
    "evaluate_with_lm(model, processor, eval_dataset)"
   ]
  },
  {
   "cell_type": "code",
   "execution_count": 23,
   "id": "90ae2cad",
   "metadata": {},
   "outputs": [
    {
     "data": {
      "text/plain": [
       "[]"
      ]
     },
     "execution_count": 23,
     "metadata": {},
     "output_type": "execute_result"
    }
   ],
   "source": [
    "trainer.save_model(\"cupal-model-17871-10\")\n",
    "processor.save_pretrained(\"cupal-model-17871-10\")\n"
   ]
  },
  {
   "cell_type": "code",
   "execution_count": 50,
   "id": "dd9fa824",
   "metadata": {},
   "outputs": [],
   "source": [
    "# DABLOAT TESTING GROUNDS"
   ]
  }
 ],
 "metadata": {
  "kernelspec": {
   "display_name": "Project",
   "language": "python",
   "name": "project"
  },
  "language_info": {
   "codemirror_mode": {
    "name": "ipython",
    "version": 3
   },
   "file_extension": ".py",
   "mimetype": "text/x-python",
   "name": "python",
   "nbconvert_exporter": "python",
   "pygments_lexer": "ipython3",
   "version": "3.12.8"
  }
 },
 "nbformat": 4,
 "nbformat_minor": 5
}
