{
 "cells": [
  {
   "cell_type": "code",
   "execution_count": 20,
   "id": "79299fd9",
   "metadata": {},
   "outputs": [],
   "source": [
    "from datasets import Dataset, concatenate_datasets\n",
    "\n",
    "data1 = Dataset.from_json('data-open-voice/annotations/dataset1.json')\n",
    "data2 = Dataset.from_json('data-open-voice/annotations/dataset2.json')\n",
    "data3 = Dataset.from_json('data-open-voice/annotations/dataset3.json')\n",
    "data = concatenate_datasets([data1, data2, data3])"
   ]
  },
  {
   "cell_type": "code",
   "execution_count": 21,
   "id": "42685de9",
   "metadata": {},
   "outputs": [
    {
     "data": {
      "text/plain": [
       "(3750, 4)"
      ]
     },
     "execution_count": 21,
     "metadata": {},
     "output_type": "execute_result"
    }
   ],
   "source": [
    "data.shape"
   ]
  },
  {
   "cell_type": "code",
   "execution_count": 22,
   "id": "5eda629d",
   "metadata": {},
   "outputs": [
    {
     "name": "stdout",
     "output_type": "stream",
     "text": [
      "{'path': Value(dtype='string', id=None), 'text': Value(dtype='string', id=None), 'array': Sequence(feature=Value(dtype='float64', id=None), length=-1, id=None), 'sampling_rate': Value(dtype='int64', id=None)}\n"
     ]
    }
   ],
   "source": [
    "print(data.features)"
   ]
  },
  {
   "cell_type": "code",
   "execution_count": 23,
   "id": "998b596b",
   "metadata": {},
   "outputs": [],
   "source": [
    "from transformers import AutoProcessor\n",
    "\n",
    "processor = AutoProcessor.from_pretrained(\"facebook/s2t-small-librispeech-asr\")\n",
    "\n",
    "def preprocess_batch(batch):\n",
    "    # Extract arrays and sample rates\n",
    "    audio_arrays = batch[\"array\"]\n",
    "    sampling_rates = batch[\"sampling_rate\"]\n",
    "\n",
    "    # Process audio features\n",
    "    audio_inputs = processor(\n",
    "        audio_arrays,\n",
    "        sampling_rate=sampling_rates[0],  # assuming all have same rate\n",
    "        return_tensors=\"pt\",\n",
    "        padding=True\n",
    "    )\n",
    "\n",
    "    # Process text labels\n",
    "    labels = processor.tokenizer(\n",
    "        batch[\"text\"],\n",
    "        return_tensors=\"pt\",\n",
    "        padding=True,\n",
    "        truncation=True\n",
    "    )\n",
    "    \n",
    "    # Replace padding token ID with -100\n",
    "    labels[\"input_ids\"][labels[\"input_ids\"] == processor.tokenizer.pad_token_id] = -100\n",
    "    \n",
    "\n",
    "    return {\n",
    "        \"input_features\": audio_inputs[\"input_features\"],\n",
    "        \"labels\": labels[\"input_ids\"]\n",
    "    }\n"
   ]
  },
  {
   "cell_type": "code",
   "execution_count": 24,
   "id": "79fa80da",
   "metadata": {},
   "outputs": [],
   "source": [
    "dataset = data.map(preprocess_batch, batched=True)"
   ]
  },
  {
   "cell_type": "code",
   "execution_count": 25,
   "id": "a8ad96ba",
   "metadata": {},
   "outputs": [
    {
     "data": {
      "text/plain": [
       "DatasetDict({\n",
       "    train: Dataset({\n",
       "        features: ['path', 'text', 'array', 'sampling_rate', 'input_features', 'labels'],\n",
       "        num_rows: 2625\n",
       "    })\n",
       "    test: Dataset({\n",
       "        features: ['path', 'text', 'array', 'sampling_rate', 'input_features', 'labels'],\n",
       "        num_rows: 1125\n",
       "    })\n",
       "})"
      ]
     },
     "execution_count": 25,
     "metadata": {},
     "output_type": "execute_result"
    }
   ],
   "source": [
    "dataset = dataset.train_test_split(test_size=0.3)\n",
    "dataset"
   ]
  },
  {
   "cell_type": "code",
   "execution_count": 26,
   "id": "396ffb21",
   "metadata": {},
   "outputs": [],
   "source": [
    "train_dataset = dataset[\"train\"]\n",
    "eval_dataset = dataset[\"test\"]"
   ]
  },
  {
   "cell_type": "code",
   "execution_count": 27,
   "id": "999d935b",
   "metadata": {},
   "outputs": [
    {
     "name": "stderr",
     "output_type": "stream",
     "text": [
      "Some weights of Speech2TextForConditionalGeneration were not initialized from the model checkpoint at facebook/s2t-small-librispeech-asr and are newly initialized: ['model.decoder.embed_positions.weights', 'model.encoder.embed_positions.weights']\n",
      "You should probably TRAIN this model on a down-stream task to be able to use it for predictions and inference.\n"
     ]
    }
   ],
   "source": [
    "from transformers import Speech2TextForConditionalGeneration, AutoProcessor\n",
    "\n",
    "model = Speech2TextForConditionalGeneration.from_pretrained(\"facebook/s2t-small-librispeech-asr\")\n",
    "processor = AutoProcessor.from_pretrained(\"facebook/s2t-small-librispeech-asr\")\n"
   ]
  },
  {
   "cell_type": "code",
   "execution_count": null,
   "id": "9c6a4f32",
   "metadata": {},
   "outputs": [],
   "source": [
    "from transformers import Seq2SeqTrainingArguments\n",
    "\n",
    "training_args = Seq2SeqTrainingArguments(\n",
    "    output_dir=\"./s2t_finetuned\",\n",
    "    per_device_train_batch_size=4,\n",
    "    per_device_eval_batch_size=4,\n",
    "    predict_with_generate=True,\n",
    "    learning_rate=5e-5,\n",
    "    eval_strategy=\"epoch\",\n",
    "    logging_strategy=\"steps\",\n",
    "    logging_steps=50,\n",
    "    save_strategy=\"epoch\",\n",
    "    num_train_epochs=5,\n",
    "    generation_max_length=128,\n",
    "    fp16=False,  # If using a GPU that supports it\n",
    "    save_total_limit=2\n",
    ")\n"
   ]
  },
  {
   "cell_type": "code",
   "execution_count": 29,
   "id": "b8d82102",
   "metadata": {},
   "outputs": [],
   "source": [
    "from dataclasses import dataclass\n",
    "from typing import Any, Dict, List, Union\n",
    "import torch\n",
    "\n",
    "@dataclass\n",
    "class DataCollatorSpeechSeq2SeqWithPadding:\n",
    "    processor: Any\n",
    "    model: Any\n",
    "\n",
    "    def __call__(self, features: List[Dict[str, Union[List[int], torch.Tensor]]]) -> Dict[str, torch.Tensor]:\n",
    "        input_features = [f[\"input_features\"] for f in features]\n",
    "        label_features = [f[\"labels\"] for f in features]\n",
    "\n",
    "        batch = self.processor.feature_extractor.pad(\n",
    "            {\"input_features\": input_features},\n",
    "            return_tensors=\"pt\"\n",
    "        )\n",
    "\n",
    "        # Pad labels manually\n",
    "        max_length = max(len(l) for l in label_features)\n",
    "        labels_batch = torch.full((len(label_features), max_length), self.model.config.pad_token_id)\n",
    "        for i, labels in enumerate(label_features):\n",
    "            labels_batch[i, :len(labels)] = torch.tensor(labels)\n",
    "\n",
    "        batch[\"labels\"] = labels_batch\n",
    "        return batch\n"
   ]
  },
  {
   "cell_type": "code",
   "execution_count": 30,
   "id": "f0b90852",
   "metadata": {},
   "outputs": [],
   "source": [
    "data_collator = DataCollatorSpeechSeq2SeqWithPadding(processor=processor, model=model)\n"
   ]
  },
  {
   "cell_type": "code",
   "execution_count": 31,
   "id": "04124420",
   "metadata": {},
   "outputs": [],
   "source": [
    "import evaluate\n",
    "import numpy as np\n",
    "import torch\n",
    "\n",
    "wer_metric = evaluate.load(\"wer\")\n",
    "\n",
    "def compute_metrics(pred):\n",
    "    pred_ids = pred.predictions\n",
    "    label_ids = pred.label_ids\n",
    "\n",
    "    # Replace -100 in labels as padding token\n",
    "    label_ids[label_ids == -100] = processor.tokenizer.pad_token_id\n",
    "\n",
    "    pred_str = processor.batch_decode(pred_ids, skip_special_tokens=True)\n",
    "    label_str = processor.batch_decode(label_ids, skip_special_tokens=True)\n",
    "\n",
    "    wer = wer_metric.compute(predictions=pred_str, references=label_str)\n",
    "    return {\"Word Error Rate\": wer}"
   ]
  },
  {
   "cell_type": "code",
   "execution_count": 48,
   "id": "38c47c8c",
   "metadata": {},
   "outputs": [
    {
     "name": "stderr",
     "output_type": "stream",
     "text": [
      "/tmp/ipykernel_4521/2021176633.py:3: FutureWarning: `tokenizer` is deprecated and will be removed in version 5.0.0 for `Seq2SeqTrainer.__init__`. Use `processing_class` instead.\n",
      "  trainer = Seq2SeqTrainer(\n"
     ]
    }
   ],
   "source": [
    "from transformers import Seq2SeqTrainer, EarlyStoppingCallback\n",
    "\n",
    "trainer = Seq2SeqTrainer(\n",
    "    model=model,\n",
    "    args=training_args,\n",
    "    train_dataset=train_dataset,\n",
    "    eval_dataset=eval_dataset,\n",
    "    tokenizer=processor.feature_extractor,\n",
    "    data_collator=data_collator,\n",
    "    callbacks=[EarlyStoppingCallback(early_stopping_patience=3)],\n",
    "    compute_metrics=compute_metrics\n",
    ")\n"
   ]
  },
  {
   "cell_type": "code",
   "execution_count": null,
   "id": "182c0fd6",
   "metadata": {},
   "outputs": [
    {
     "data": {
      "text/html": [
       "\n",
       "    <div>\n",
       "      \n",
       "      <progress value='3285' max='3285' style='width:300px; height:20px; vertical-align: middle;'></progress>\n",
       "      [3285/3285 25:42, Epoch 5/5]\n",
       "    </div>\n",
       "    <table border=\"1\" class=\"dataframe\">\n",
       "  <thead>\n",
       " <tr style=\"text-align: left;\">\n",
       "      <th>Epoch</th>\n",
       "      <th>Training Loss</th>\n",
       "      <th>Validation Loss</th>\n",
       "      <th>Word error rate</th>\n",
       "    </tr>\n",
       "  </thead>\n",
       "  <tbody>\n",
       "    <tr>\n",
       "      <td>1</td>\n",
       "      <td>2.040900</td>\n",
       "      <td>1.522150</td>\n",
       "      <td>0.403803</td>\n",
       "    </tr>\n",
       "    <tr>\n",
       "      <td>2</td>\n",
       "      <td>1.929400</td>\n",
       "      <td>1.328592</td>\n",
       "      <td>0.371679</td>\n",
       "    </tr>\n",
       "    <tr>\n",
       "      <td>3</td>\n",
       "      <td>1.616600</td>\n",
       "      <td>1.280242</td>\n",
       "      <td>0.349453</td>\n",
       "    </tr>\n",
       "    <tr>\n",
       "      <td>4</td>\n",
       "      <td>1.593900</td>\n",
       "      <td>1.201919</td>\n",
       "      <td>0.337645</td>\n",
       "    </tr>\n",
       "    <tr>\n",
       "      <td>5</td>\n",
       "      <td>1.543000</td>\n",
       "      <td>1.195847</td>\n",
       "      <td>0.337211</td>\n",
       "    </tr>\n",
       "  </tbody>\n",
       "</table><p>"
      ],
      "text/plain": [
       "<IPython.core.display.HTML object>"
      ]
     },
     "metadata": {},
     "output_type": "display_data"
    },
    {
     "data": {
      "text/plain": [
       "TrainOutput(global_step=3285, training_loss=1.8112195681219232, metrics={'train_runtime': 1543.0217, 'train_samples_per_second': 8.506, 'train_steps_per_second': 2.129, 'total_flos': 1.9138238921244672e+17, 'train_loss': 1.8112195681219232, 'epoch': 5.0})"
      ]
     },
     "execution_count": 35,
     "metadata": {},
     "output_type": "execute_result"
    }
   ],
   "source": [
    "trainer.train()\n"
   ]
  },
  {
   "cell_type": "code",
   "execution_count": 37,
   "id": "424735c8",
   "metadata": {},
   "outputs": [
    {
     "data": {
      "text/html": [],
      "text/plain": [
       "<IPython.core.display.HTML object>"
      ]
     },
     "metadata": {},
     "output_type": "display_data"
    },
    {
     "name": "stdout",
     "output_type": "stream",
     "text": [
      "{'eval_loss': 1.1958465576171875, 'eval_Word Error Rate': 0.337211321409967, 'eval_runtime': 121.8296, 'eval_samples_per_second': 9.234, 'eval_steps_per_second': 2.315, 'epoch': 5.0}\n"
     ]
    }
   ],
   "source": [
    "results = trainer.evaluate()\n",
    "print(results)"
   ]
  },
  {
   "cell_type": "code",
   "execution_count": 45,
   "id": "c73d9cd5",
   "metadata": {},
   "outputs": [
    {
     "data": {
      "text/html": [],
      "text/plain": [
       "<IPython.core.display.HTML object>"
      ]
     },
     "metadata": {},
     "output_type": "display_data"
    },
    {
     "name": "stdout",
     "output_type": "stream",
     "text": [
      "\n",
      " * Reference: two initiatives were approved for the general election ballot\n",
      " * Prediction: two natives were approved for the general election ballets \n",
      " * WER: 0.222\n",
      "\n",
      " * Reference: the test missile is launched successfully\n",
      " * Prediction: the test thistle is lodged successfully \n",
      " * WER: 0.333\n",
      "\n",
      " * Reference: larson is married and has two children sarah and luke\n",
      " * Prediction: loosont is married and has two zimbre \n",
      " * WER: 0.500\n",
      "\n",
      " * Reference: law and economics has developed in a variety of directions\n",
      " * Prediction: the north end echoed \n",
      " * WER: 1.000\n",
      "\n",
      " * Reference: it has been found that shynessinhibition is associated with a variety of maladaptive behaviors\n",
      " * Prediction: it has been found that chynus inhibation is associated with the variety of maled behavio \n",
      " * WER: 0.357\n",
      "\n",
      " * Reference: rey also provided guitar on janet jackson's single just a little while\n",
      " * Prediction: ray also provided guitar on janet jackson's symboled just a little while while \n",
      " * WER: 0.250\n",
      "\n",
      " * Reference: the classical physics of chernsimons theory is independent of the choice of level k\n",
      " * Prediction: the classical physics of turn simon's theory is independent of the choice of level \n",
      " * WER: 0.214\n",
      "\n",
      " * Reference: anything much more substantial than these uses requires the use of additional explosives\n",
      " * Prediction: anything much more substantial than these uses requires the use of edition \n",
      " * WER: 0.154\n",
      "\n",
      " * Reference: grey married four times\n",
      " * Prediction: three married four times \n",
      " * WER: 0.250\n",
      "\n",
      " * Reference: social enterprises use a business to address a social or environmental need\n",
      " * Prediction: social enterprises use a business to address a social or environmental need \n",
      " * WER: 0.000\n"
     ]
    }
   ],
   "source": [
    "sample = eval_dataset.select(range(10))\n",
    "output = trainer.predict(sample)\n",
    "\n",
    "wer_metric = evaluate.load(\"wer\")\n",
    "pred_str = processor.batch_decode(output.predictions, skip_special_tokens=True)\n",
    "label_str = processor.batch_decode(output.label_ids, skip_special_tokens=True)\n",
    "\n",
    "for ref, pred in zip(label_str, pred_str):\n",
    "    wer = wer_metric.compute(predictions=[pred], references=[ref])\n",
    "    print(f\"\\n * Reference: {ref}\\n * Prediction: {pred} \\n * WER: {wer:.3f}\")"
   ]
  },
  {
   "cell_type": "code",
   "execution_count": 49,
   "id": "90ae2cad",
   "metadata": {},
   "outputs": [
    {
     "data": {
      "text/plain": [
       "[]"
      ]
     },
     "execution_count": 49,
     "metadata": {},
     "output_type": "execute_result"
    }
   ],
   "source": [
    "trainer.save_model(\"cupal-model-3750-5\")\n",
    "processor.save_pretrained(\"cupal-model-3750-5\")\n"
   ]
  },
  {
   "cell_type": "code",
   "execution_count": 50,
   "id": "dd9fa824",
   "metadata": {},
   "outputs": [],
   "source": [
    "# DABLOAT TESTING GROUNDS"
   ]
  }
 ],
 "metadata": {
  "kernelspec": {
   "display_name": "Project",
   "language": "python",
   "name": "project"
  },
  "language_info": {
   "codemirror_mode": {
    "name": "ipython",
    "version": 3
   },
   "file_extension": ".py",
   "mimetype": "text/x-python",
   "name": "python",
   "nbconvert_exporter": "python",
   "pygments_lexer": "ipython3",
   "version": "3.12.8"
  }
 },
 "nbformat": 4,
 "nbformat_minor": 5
}
